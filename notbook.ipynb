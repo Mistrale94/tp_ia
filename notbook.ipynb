{
 "cells": [
  {
   "cell_type": "code",
   "execution_count": 39,
   "metadata": {
    "ExecuteTime": {
     "end_time": "2024-06-24T12:01:54.302137Z",
     "start_time": "2024-06-24T12:01:09.780008Z"
    }
   },
   "outputs": [
    {
     "name": "stdout",
     "output_type": "stream",
     "text": [
      "Batch size: 64\n"
     ]
    }
   ],
   "source": [
    "import torch\n",
    "import torch.nn as nn\n",
    "import torch.nn.functional as F\n",
    "from torchvision import datasets, transforms\n",
    "import matplotlib.pyplot as plt\n",
    "import numpy as np\n",
    "from tqdm import tqdm \n",
    "\n",
    "\n",
    "from torchvision import datasets, transforms\n",
    "from torch.utils.data import DataLoader\n",
    "\n",
    "transform = transforms.Compose([\n",
    "    transforms.ToTensor(),\n",
    "    transforms.Normalize((0.1307,), (0.3081,))\n",
    "])\n",
    "\n",
    "test_dataset = datasets.MNIST(root='./data', train=False, download=True, transform=transform)\n",
    "\n",
    "test_loader = DataLoader(test_dataset, batch_size=64, shuffle=False)\n",
    "\n",
    "for images, labels in test_loader:\n",
    "    print(f'Batch size: {images.size(0)}') \n",
    "    break \n"
   ]
  },
  {
   "cell_type": "code",
   "execution_count": 12,
   "metadata": {
    "ExecuteTime": {
     "end_time": "2024-06-24T12:25:22.262161Z",
     "start_time": "2024-06-24T12:25:22.256436Z"
    }
   },
   "outputs": [],
   "source": [
    "device = 'mps'"
   ]
  },
  {
   "cell_type": "code",
   "execution_count": 13,
   "metadata": {
    "ExecuteTime": {
     "end_time": "2024-06-24T12:01:57.038404Z",
     "start_time": "2024-06-24T12:01:57.033150Z"
    }
   },
   "outputs": [
    {
     "data": {
      "text/plain": [
       "'cpu'"
      ]
     },
     "execution_count": 13,
     "metadata": {},
     "output_type": "execute_result"
    }
   ],
   "source": [
    "device = \"cuda\" if torch.cuda.is_available() else \"cpu\"\n",
    "device"
   ]
  },
  {
   "cell_type": "code",
   "execution_count": 14,
   "metadata": {
    "ExecuteTime": {
     "end_time": "2024-06-24T12:01:58.747206Z",
     "start_time": "2024-06-24T12:01:58.743783Z"
    }
   },
   "outputs": [],
   "source": [
    "tf = transforms.Compose([transforms.ToTensor(),\n",
    " transforms.Normalize((0.1307,), (0.3081,))])"
   ]
  },
  {
   "cell_type": "code",
   "execution_count": 15,
   "metadata": {
    "ExecuteTime": {
     "end_time": "2024-06-24T12:02:54.008116Z",
     "start_time": "2024-06-24T12:02:03.568272Z"
    }
   },
   "outputs": [],
   "source": [
    "#3\n",
    "train_loader = torch.utils.data.DataLoader(datasets.MNIST(\"./data/raw\", download=True, train=True, transform=tf),\n",
    "batch_size=64, shuffle=True)\n",
    "test_load = torch.utils.data.DataLoader(datasets.MNIST(\"./data/raw\", download=True, train=False, transform=tf),\n",
    "batch_size=64, shuffle=True)"
   ]
  },
  {
   "cell_type": "code",
   "execution_count": 18,
   "metadata": {
    "ExecuteTime": {
     "end_time": "2024-06-24T12:03:31.597072Z",
     "start_time": "2024-06-24T12:03:31.305918Z"
    }
   },
   "outputs": [
    {
     "data": {
      "image/png": "[encoded data removed]",
      "text/plain": [
       "<Figure size 1500x300 with 5 Axes>"
      ]
     },
     "metadata": {},
     "output_type": "display_data"
    }
   ],
   "source": [
    "\n",
    "# Début du code\n",
    "batch = next(iter(train_loader))\n",
    "x = batch[0][:5]\n",
    "y = batch[1][:5]\n",
    "\n",
    "# Configuration pour les images\n",
    "fig, axes = plt.subplots(1, 5, figsize=(15, 3))\n",
    "\n",
    "# Boucle pour afficher chaque image\n",
    "for i in range(5):\n",
    "    image = x[i].numpy().squeeze()  \n",
    "    label = y[i].item()\n",
    "\n",
    "    axes[i].imshow(image, cmap='gray') \n",
    "    axes[i].set_title(f'{label}')\n",
    "    axes[i].axis('off')\n",
    "\n",
    "plt.show()\n"
   ]
  },
  {
   "cell_type": "code",
   "execution_count": 23,
   "metadata": {
    "ExecuteTime": {
     "end_time": "2024-06-24T12:29:55.823768Z",
     "start_time": "2024-06-24T12:29:55.798705Z"
    }
   },
   "outputs": [
    {
     "name": "stdout",
     "output_type": "stream",
     "text": [
      "ConvNet(\n",
      "  (net): Sequential(\n",
      "    (0): Conv2d(1, 6, kernel_size=(5, 5), stride=(1, 1))\n",
      "    (1): ReLU()\n",
      "    (2): MaxPool2d(kernel_size=2, stride=2, padding=0, dilation=1, ceil_mode=False)\n",
      "    (3): Conv2d(6, 6, kernel_size=(5, 5), stride=(1, 1))\n",
      "    (4): ReLU()\n",
      "    (5): MaxPool2d(kernel_size=2, stride=2, padding=0, dilation=1, ceil_mode=False)\n",
      "    (6): Flatten(start_dim=1, end_dim=-1)\n",
      "    (7): Linear(in_features=96, out_features=50, bias=True)\n",
      "    (8): Linear(in_features=50, out_features=10, bias=True)\n",
      "  )\n",
      ")\n"
     ]
    }
   ],
   "source": [
    "class ConvNet(nn.Module):\n",
    "    def __init__(self, input_size, n_kernels, output_size):\n",
    "        super().__init__()\n",
    "        \n",
    "        # Définition de l'architecture du réseau\n",
    "        self.net = nn.Sequential(\n",
    "            nn.Conv2d(in_channels=1, out_channels=n_kernels, kernel_size=5),\n",
    "            nn.ReLU(),\n",
    "            nn.MaxPool2d(kernel_size=2),\n",
    "            nn.Conv2d(in_channels=n_kernels, out_channels=n_kernels, kernel_size=5),\n",
    "            nn.ReLU(),\n",
    "            nn.MaxPool2d(kernel_size=2),\n",
    "            nn.Flatten(),\n",
    "            nn.Linear(in_features=n_kernels * 4 * 4, out_features=50),\n",
    "            nn.Linear(50, 10),\n",
    "        )\n",
    "\n",
    "    def forward(self, x):\n",
    "        return self.net(x)\n",
    "\n",
    "n_kernels = 6\n",
    "input_size = 28 * 28\n",
    "output_size = 10 \n",
    "\n",
    "model = ConvNet(input_size=input_size, n_kernels=n_kernels, output_size=output_size)\n",
    "model.to(device)\n",
    "print(model)\n"
   ]
  },
  {
   "cell_type": "code",
   "execution_count": 24,
   "metadata": {
    "ExecuteTime": {
     "end_time": "2024-06-24T12:29:56.680321Z",
     "start_time": "2024-06-24T12:29:56.676740Z"
    }
   },
   "outputs": [],
   "source": [
    "def train(model, perm=torch.arange(0, 784).long(), n_epochs=1):\n",
    "    model.train()    \n",
    "    optimizer = torch.optim.AdamW(model.parameters())\n",
    "    \n",
    "    for epoch in range(n_epochs):\n",
    "        for i, (data, target) in enumerate(train_loader):\n",
    "            # send to device\n",
    "            data, targets = data.to(device), target.to(device)\n",
    "\n",
    "            # permute pixels\n",
    "            data = data.view(-1, 28*28)\n",
    "            data = data[:, perm]\n",
    "            data = data.view(-1, 1, 28, 28)\n",
    "\n",
    "            # step\n",
    "            optimizer.zero_grad()\n",
    "            logits = model(data)\n",
    "            \n",
    "            loss = F.cross_entropy(logits, targets)\n",
    "            loss.backward()\n",
    "            optimizer.step()\n",
    "\n",
    "            if i % 100 == 0:\n",
    "                print(f\"epoch={epoch}, step={i}: train loss={loss.item():.4f}\")"
   ]
  },
  {
   "cell_type": "code",
   "execution_count": 25,
   "metadata": {
    "ExecuteTime": {
     "end_time": "2024-06-24T12:29:57.141153Z",
     "start_time": "2024-06-24T12:29:57.137503Z"
    }
   },
   "outputs": [],
   "source": [
    "def test(model, perm=torch.arange(0, 784).long()):\n",
    "    model.eval()\n",
    "    \n",
    "    test_loss = 0\n",
    "    correct = 0\n",
    "    \n",
    "    for data, targets in test_loader:\n",
    "        # send to device\n",
    "        data, targets = data.to(device), targets.to(device)\n",
    "        \n",
    "        # permute pixels\n",
    "        data = data.view(-1, 28*28)\n",
    "        data = data[:, perm]\n",
    "        data = data.view(-1, 1, 28, 28)\n",
    "        \n",
    "        # metrics\n",
    "        logits = model(data)\n",
    "        test_loss += F.cross_entropy(logits, targets, reduction='sum').item()\n",
    "        preds = torch.argmax(logits, dim=1)\n",
    "        correct += (preds == targets).sum()\n",
    "\n",
    "    test_loss /= len(test_loader.dataset)\n",
    "    accuracy = correct / len(test_loader.dataset)\n",
    "    \n",
    "    print(f\"test loss={test_loss:.4f}, accuracy={accuracy:.4f}\")"
   ]
  },
  {
   "cell_type": "code",
   "execution_count": 27,
   "metadata": {
    "ExecuteTime": {
     "end_time": "2024-06-24T12:29:57.672488Z",
     "start_time": "2024-06-24T12:29:57.669710Z"
    }
   },
   "outputs": [],
   "source": [
    "class ConvNet(nn.Module):\n",
    "    def __init__(self, input_size, n_kernel, output_size):\n",
    "        super().__init__()\n",
    "        self.net = nn.Sequential(\n",
    "            nn.Conv2d(in_channels=1, out_channels=n_kernel, kernel_size=5),\n",
    "            nn.ReLU(),\n",
    "            nn.MaxPool2d(kernel_size=2),\n",
    "            nn.Conv2d(in_channels=n_kernel, out_channels=n_kernel, kernel_size=5),\n",
    "            nn.ReLU(),\n",
    "            nn.MaxPool2d(kernel_size=2),\n",
    "            nn.Flatten(),\n",
    "            nn.Linear(in_features=n_kernel * 4 * 4, out_features=50),\n",
    "            nn.Linear(50, 10),\n",
    "        )\n",
    "\n",
    "    def forward(self, x):\n",
    "        return self.net(x)"
   ]
  },
  {
   "cell_type": "code",
   "execution_count": 36,
   "metadata": {
    "ExecuteTime": {
     "end_time": "2024-06-24T12:30:07.187952Z",
     "start_time": "2024-06-24T12:29:58.247104Z"
    }
   },
   "outputs": [
    {
     "name": "stdout",
     "output_type": "stream",
     "text": [
      "epoch=0, step=0: train loss=0.0360\n",
      "epoch=0, step=100: train loss=0.1241\n",
      "epoch=0, step=200: train loss=0.1622\n",
      "epoch=0, step=300: train loss=0.0860\n",
      "epoch=0, step=400: train loss=0.2040\n",
      "epoch=0, step=500: train loss=0.1430\n",
      "epoch=0, step=600: train loss=0.2331\n",
      "epoch=0, step=700: train loss=0.1175\n",
      "epoch=0, step=800: train loss=0.1965\n",
      "epoch=0, step=900: train loss=0.1260\n"
     ]
    }
   ],
   "source": [
    "train(model)"
   ]
  },
  {
   "cell_type": "code",
   "execution_count": 38,
   "metadata": {
    "ExecuteTime": {
     "end_time": "2024-06-24T12:30:10.084647Z",
     "start_time": "2024-06-24T12:30:08.941534Z"
    }
   },
   "outputs": [
    {
     "name": "stdout",
     "output_type": "stream",
     "text": [
      "test loss=0.0762, accuracy=0.9769\n"
     ]
    }
   ],
   "source": [
    "test(model)"
   ]
  },
  {
   "cell_type": "code",
   "execution_count": null,
   "metadata": {},
   "outputs": [],
   "source": []
  }
 ],
 "metadata": {
  "kernelspec": {
   "display_name": "Python 3",
   "language": "python",
   "name": "python3"
  },
  "language_info": {
   "codemirror_mode": {
    "name": "ipython",
    "version": 3
   },
   "file_extension": ".py",
   "mimetype": "text/x-python",
   "name": "python",
   "nbconvert_exporter": "python",
   "pygments_lexer": "ipython3",
   "version": "3.12.4"
  }
 },
 "nbformat": 4,
 "nbformat_minor": 2
}
